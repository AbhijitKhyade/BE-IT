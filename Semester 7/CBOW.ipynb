{
 "cells": [
  {
   "cell_type": "markdown",
   "id": "1fdae89e",
   "metadata": {},
   "source": [
    "# Import Necessary Packages"
   ]
  },
  {
   "cell_type": "code",
   "execution_count": 81,
   "id": "9dd93f5c",
   "metadata": {},
   "outputs": [],
   "source": [
    "import tensorflow as tf\n",
    "\n",
    "from tensorflow.keras.models import Sequential\n",
    "from tensorflow.keras.layers import Embedding, Dense, Lambda\n",
    "from tensorflow.keras.preprocessing.text import Tokenizer\n",
    "\n",
    "from sklearn.model_selection import train_test_split\n",
    "\n",
    "import numpy as np\n",
    "import pandas as pd\n",
    "import matplotlib.pyplot as plt\n"
   ]
  },
  {
   "cell_type": "code",
   "execution_count": 82,
   "id": "1dd32241",
   "metadata": {},
   "outputs": [
    {
     "data": {
      "text/plain": [
       "'The speed of transmission is an important point of difference between the two viruses. Influenza has a shorter median incubation period (the time from infection to appearance of symptoms) and a shorter serial interval (the time between successive cases) than COVID-19 virus. The serial interval for COVID-19 virus is estimated to be 5-6 days, while for influenza virus, the serial interval is 3 days. This means that influenza can spread faster than COVID-19. \\n\\nFurther, transmission in the first 3-5 days of illness, or potentially pre-symptomatic transmission –transmission of the virus before the appearance of symptoms – is a major driver of transmission for influenza. In contrast, while we are learning that there are people who can shed COVID-19 virus 24-48 hours prior to symptom onset, at present, this does not appear to be a major driver of transmission. \\n\\nThe reproductive number – the number of secondary infections generated from one infected individual – is understood to be between 2 and 2.5 for COVID-19 virus, higher than for influenza. However, estimates for both COVID-19 and influenza viruses are very context and time-specific, making direct comparisons more difficult.  '"
      ]
     },
     "execution_count": 82,
     "metadata": {},
     "output_type": "execute_result"
    }
   ],
   "source": [
    "with open('./CBOW/CBOW.txt', 'r', encoding='utf-8') as file:\n",
    "    text = file.read()\n",
    "    \n",
    "text"
   ]
  },
  {
   "cell_type": "markdown",
   "id": "d5e599d0",
   "metadata": {},
   "source": [
    "# Preprocessing text"
   ]
  },
  {
   "cell_type": "code",
   "execution_count": 68,
   "id": "5259b05b",
   "metadata": {},
   "outputs": [
    {
     "data": {
      "text/plain": [
       "'the speed of transmission is an important point of difference between the two viruses. influenza has a shorter median incubation period the time from infection to appearance of symptoms and a shorter serial interval the time between successive cases than covid19 virus. the serial interval for covid19 virus is estimated to be 56 days while for influenza virus the serial interval is 3 days. this means that influenza can spread faster than covid19. further transmission in the first 35 days of illness or potentially presymptomatic transmission –transmission of the virus before the appearance of symptoms – is a major driver of transmission for influenza. in contrast while we are learning that there are people who can shed covid19 virus 2448 hours prior to symptom onset at present this does not appear to be a major driver of transmission. the reproductive number – the number of secondary infections generated from one infected individual – is understood to be between 2 and 2.5 for covid19 virus higher than for influenza. however estimates for both covid19 and influenza viruses are very context and timespecific making direct comparisons more difficult.  '"
      ]
     },
     "execution_count": 68,
     "metadata": {},
     "output_type": "execute_result"
    }
   ],
   "source": [
    "# convert text to lowercase\n",
    "\n",
    "text = text.lower()\n",
    "\n",
    "text = text.replace('\\n','')\n",
    "text = text.replace('(','')\n",
    "text = text.replace(')','')\n",
    "text = text.replace(',','')\n",
    "text = text.replace('-','')\n",
    "\n",
    "text"
   ]
  },
  {
   "cell_type": "code",
   "execution_count": 69,
   "id": "e6aa637a",
   "metadata": {},
   "outputs": [
    {
     "data": {
      "text/plain": [
       "'the speed of transmission is an important point of difference between the two viruses. influenza has a shorter median incubation period the time from infection to appearance of symptoms and a shorter serial interval the time between successive cases than covid virus. the serial interval for covid virus is estimated to be  days while for influenza virus the serial interval is  days. this means that influenza can spread faster than covid. further transmission in the first  days of illness or potentially presymptomatic transmission –transmission of the virus before the appearance of symptoms – is a major driver of transmission for influenza. in contrast while we are learning that there are people who can shed covid virus  hours prior to symptom onset at present this does not appear to be a major driver of transmission. the reproductive number – the number of secondary infections generated from one infected individual – is understood to be between  and . for covid virus higher than for influenza. however estimates for both covid and influenza viruses are very context and timespecific making direct comparisons more difficult.  '"
      ]
     },
     "execution_count": 69,
     "metadata": {},
     "output_type": "execute_result"
    }
   ],
   "source": [
    "cleaned_text = ''\n",
    "\n",
    "for word in text:\n",
    "    if not word.isdigit():\n",
    "        cleaned_text += word\n",
    "\n",
    "\n",
    "cleaned_text"
   ]
  },
  {
   "cell_type": "code",
   "execution_count": 70,
   "id": "fe4f5f8e",
   "metadata": {},
   "outputs": [
    {
     "data": {
      "text/plain": [
       "['the speed of transmission is an important point of difference between the two viruses',\n",
       " ' influenza has a shorter median incubation period the time from infection to appearance of symptoms and a shorter serial interval the time between successive cases than covid virus',\n",
       " ' the serial interval for covid virus is estimated to be  days while for influenza virus the serial interval is  days',\n",
       " ' this means that influenza can spread faster than covid',\n",
       " ' further transmission in the first  days of illness or potentially presymptomatic transmission –transmission of the virus before the appearance of symptoms – is a major driver of transmission for influenza',\n",
       " ' in contrast while we are learning that there are people who can shed covid virus  hours prior to symptom onset at present this does not appear to be a major driver of transmission',\n",
       " ' the reproductive number – the number of secondary infections generated from one infected individual – is understood to be between  and ',\n",
       " ' for covid virus higher than for influenza',\n",
       " ' however estimates for both covid and influenza viruses are very context and timespecific making direct comparisons more difficult',\n",
       " '  ']"
      ]
     },
     "execution_count": 70,
     "metadata": {},
     "output_type": "execute_result"
    }
   ],
   "source": [
    "# Splitting the text into sentences\n",
    "sentences = cleaned_text.split('.')\n",
    "sentences"
   ]
  },
  {
   "cell_type": "code",
   "execution_count": 71,
   "id": "18fb7405",
   "metadata": {},
   "outputs": [
    {
     "name": "stdout",
     "output_type": "stream",
     "text": [
      "[[1, 34, 2, 7, 8, 35, 36, 37, 2, 38, 12, 1, 39, 20], [3, 40, 10, 21, 41, 42, 43, 1, 22, 23, 44, 9, 24, 2, 25, 11, 10, 21, 13, 14, 1, 22, 12, 45, 46, 15, 4, 5], [1, 13, 14, 6, 4, 5, 8, 47, 9, 16, 17, 26, 6, 3, 5, 1, 13, 14, 8, 17], [27, 48, 28, 3, 29, 49, 50, 15, 4], [51, 7, 30, 1, 52, 17, 2, 53, 54, 55, 56, 7, 57, 2, 1, 5, 58, 1, 24, 2, 25, 18, 8, 10, 31, 32, 2, 7, 6, 3], [30, 59, 26, 60, 19, 61, 28, 62, 19, 63, 64, 29, 65, 4, 5, 66, 67, 9, 68, 69, 70, 71, 27, 72, 73, 74, 9, 16, 10, 31, 32, 2, 7], [1, 75, 33, 18, 1, 33, 2, 76, 77, 78, 23, 79, 80, 81, 18, 8, 82, 9, 16, 12, 11], [6, 4, 5, 83, 15, 6, 3], [84, 85, 6, 86, 4, 11, 3, 20, 19, 87, 88, 11, 89, 90, 91, 92, 93, 94], []]\n"
     ]
    }
   ],
   "source": [
    "# Tokenizing the sentences\n",
    "\n",
    "tokenizer = Tokenizer()\n",
    "tokenizer.fit_on_texts(sentences)\n",
    "sequences = tokenizer.texts_to_sequences(sentences)\n",
    "print(sequences)"
   ]
  },
  {
   "cell_type": "code",
   "execution_count": 72,
   "id": "8283c2ef",
   "metadata": {},
   "outputs": [
    {
     "name": "stdout",
     "output_type": "stream",
     "text": [
      "{1: 'the', 2: 'of', 3: 'influenza', 4: 'covid', 5: 'virus', 6: 'for', 7: 'transmission', 8: 'is', 9: 'to', 10: 'a', 11: 'and', 12: 'between', 13: 'serial', 14: 'interval', 15: 'than', 16: 'be', 17: 'days', 18: '–', 19: 'are', 20: 'viruses', 21: 'shorter', 22: 'time', 23: 'from', 24: 'appearance', 25: 'symptoms', 26: 'while', 27: 'this', 28: 'that', 29: 'can', 30: 'in', 31: 'major', 32: 'driver', 33: 'number', 34: 'speed', 35: 'an', 36: 'important', 37: 'point', 38: 'difference', 39: 'two', 40: 'has', 41: 'median', 42: 'incubation', 43: 'period', 44: 'infection', 45: 'successive', 46: 'cases', 47: 'estimated', 48: 'means', 49: 'spread', 50: 'faster', 51: 'further', 52: 'first', 53: 'illness', 54: 'or', 55: 'potentially', 56: 'presymptomatic', 57: '–transmission', 58: 'before', 59: 'contrast', 60: 'we', 61: 'learning', 62: 'there', 63: 'people', 64: 'who', 65: 'shed', 66: 'hours', 67: 'prior', 68: 'symptom', 69: 'onset', 70: 'at', 71: 'present', 72: 'does', 73: 'not', 74: 'appear', 75: 'reproductive', 76: 'secondary', 77: 'infections', 78: 'generated', 79: 'one', 80: 'infected', 81: 'individual', 82: 'understood', 83: 'higher', 84: 'however', 85: 'estimates', 86: 'both', 87: 'very', 88: 'context', 89: 'timespecific', 90: 'making', 91: 'direct', 92: 'comparisons', 93: 'more', 94: 'difficult'} \n",
      "\n",
      "{'the': 1, 'of': 2, 'influenza': 3, 'covid': 4, 'virus': 5, 'for': 6, 'transmission': 7, 'is': 8, 'to': 9, 'a': 10, 'and': 11, 'between': 12, 'serial': 13, 'interval': 14, 'than': 15, 'be': 16, 'days': 17, '–': 18, 'are': 19, 'viruses': 20, 'shorter': 21, 'time': 22, 'from': 23, 'appearance': 24, 'symptoms': 25, 'while': 26, 'this': 27, 'that': 28, 'can': 29, 'in': 30, 'major': 31, 'driver': 32, 'number': 33, 'speed': 34, 'an': 35, 'important': 36, 'point': 37, 'difference': 38, 'two': 39, 'has': 40, 'median': 41, 'incubation': 42, 'period': 43, 'infection': 44, 'successive': 45, 'cases': 46, 'estimated': 47, 'means': 48, 'spread': 49, 'faster': 50, 'further': 51, 'first': 52, 'illness': 53, 'or': 54, 'potentially': 55, 'presymptomatic': 56, '–transmission': 57, 'before': 58, 'contrast': 59, 'we': 60, 'learning': 61, 'there': 62, 'people': 63, 'who': 64, 'shed': 65, 'hours': 66, 'prior': 67, 'symptom': 68, 'onset': 69, 'at': 70, 'present': 71, 'does': 72, 'not': 73, 'appear': 74, 'reproductive': 75, 'secondary': 76, 'infections': 77, 'generated': 78, 'one': 79, 'infected': 80, 'individual': 81, 'understood': 82, 'higher': 83, 'however': 84, 'estimates': 85, 'both': 86, 'very': 87, 'context': 88, 'timespecific': 89, 'making': 90, 'direct': 91, 'comparisons': 92, 'more': 93, 'difficult': 94}\n"
     ]
    }
   ],
   "source": [
    "idx2word = tokenizer.index_word\n",
    "word2idx = tokenizer.word_index\n",
    "\n",
    "print(idx2word, '\\n')\n",
    "print(word2idx)"
   ]
  },
  {
   "cell_type": "markdown",
   "id": "2c609b67",
   "metadata": {},
   "source": [
    "# Creating contexts and targets"
   ]
  },
  {
   "cell_type": "code",
   "execution_count": 73,
   "id": "a6bc32b7",
   "metadata": {},
   "outputs": [
    {
     "name": "stdout",
     "output_type": "stream",
     "text": [
      "[[1, 34, 2, 8, 35, 36], [34, 2, 7, 35, 36, 37], [2, 7, 8, 36, 37, 2], [7, 8, 35, 37, 2, 38], [8, 35, 36, 2, 38, 12], [35, 36, 37, 38, 12, 1], [36, 37, 2, 12, 1, 39], [37, 2, 38, 1, 39, 20], [3, 40, 10, 41, 42, 43], [40, 10, 21, 42, 43, 1], [10, 21, 41, 43, 1, 22], [21, 41, 42, 1, 22, 23], [41, 42, 43, 22, 23, 44], [42, 43, 1, 23, 44, 9], [43, 1, 22, 44, 9, 24], [1, 22, 23, 9, 24, 2], [22, 23, 44, 24, 2, 25], [23, 44, 9, 2, 25, 11], [44, 9, 24, 25, 11, 10], [9, 24, 2, 11, 10, 21], [24, 2, 25, 10, 21, 13], [2, 25, 11, 21, 13, 14], [25, 11, 10, 13, 14, 1], [11, 10, 21, 14, 1, 22], [10, 21, 13, 1, 22, 12], [21, 13, 14, 22, 12, 45], [13, 14, 1, 12, 45, 46], [14, 1, 22, 45, 46, 15], [1, 22, 12, 46, 15, 4], [22, 12, 45, 15, 4, 5], [1, 13, 14, 4, 5, 8], [13, 14, 6, 5, 8, 47], [14, 6, 4, 8, 47, 9], [6, 4, 5, 47, 9, 16], [4, 5, 8, 9, 16, 17], [5, 8, 47, 16, 17, 26], [8, 47, 9, 17, 26, 6], [47, 9, 16, 26, 6, 3], [9, 16, 17, 6, 3, 5], [16, 17, 26, 3, 5, 1], [17, 26, 6, 5, 1, 13], [26, 6, 3, 1, 13, 14], [6, 3, 5, 13, 14, 8], [3, 5, 1, 14, 8, 17], [27, 48, 28, 29, 49, 50], [48, 28, 3, 49, 50, 15], [28, 3, 29, 50, 15, 4], [51, 7, 30, 52, 17, 2], [7, 30, 1, 17, 2, 53], [30, 1, 52, 2, 53, 54], [1, 52, 17, 53, 54, 55], [52, 17, 2, 54, 55, 56], [17, 2, 53, 55, 56, 7], [2, 53, 54, 56, 7, 57], [53, 54, 55, 7, 57, 2], [54, 55, 56, 57, 2, 1], [55, 56, 7, 2, 1, 5], [56, 7, 57, 1, 5, 58], [7, 57, 2, 5, 58, 1], [57, 2, 1, 58, 1, 24], [2, 1, 5, 1, 24, 2], [1, 5, 58, 24, 2, 25], [5, 58, 1, 2, 25, 18], [58, 1, 24, 25, 18, 8], [1, 24, 2, 18, 8, 10], [24, 2, 25, 8, 10, 31], [2, 25, 18, 10, 31, 32], [25, 18, 8, 31, 32, 2], [18, 8, 10, 32, 2, 7], [8, 10, 31, 2, 7, 6], [10, 31, 32, 7, 6, 3], [30, 59, 26, 19, 61, 28], [59, 26, 60, 61, 28, 62], [26, 60, 19, 28, 62, 19], [60, 19, 61, 62, 19, 63], [19, 61, 28, 19, 63, 64], [61, 28, 62, 63, 64, 29], [28, 62, 19, 64, 29, 65], [62, 19, 63, 29, 65, 4], [19, 63, 64, 65, 4, 5], [63, 64, 29, 4, 5, 66], [64, 29, 65, 5, 66, 67], [29, 65, 4, 66, 67, 9], [65, 4, 5, 67, 9, 68], [4, 5, 66, 9, 68, 69], [5, 66, 67, 68, 69, 70], [66, 67, 9, 69, 70, 71], [67, 9, 68, 70, 71, 27], [9, 68, 69, 71, 27, 72], [68, 69, 70, 27, 72, 73], [69, 70, 71, 72, 73, 74], [70, 71, 27, 73, 74, 9], [71, 27, 72, 74, 9, 16], [27, 72, 73, 9, 16, 10], [72, 73, 74, 16, 10, 31], [73, 74, 9, 10, 31, 32], [74, 9, 16, 31, 32, 2], [9, 16, 10, 32, 2, 7], [1, 75, 33, 1, 33, 2], [75, 33, 18, 33, 2, 76], [33, 18, 1, 2, 76, 77], [18, 1, 33, 76, 77, 78], [1, 33, 2, 77, 78, 23], [33, 2, 76, 78, 23, 79], [2, 76, 77, 23, 79, 80], [76, 77, 78, 79, 80, 81], [77, 78, 23, 80, 81, 18], [78, 23, 79, 81, 18, 8], [23, 79, 80, 18, 8, 82], [79, 80, 81, 8, 82, 9], [80, 81, 18, 82, 9, 16], [81, 18, 8, 9, 16, 12], [18, 8, 82, 16, 12, 11], [6, 4, 5, 15, 6, 3], [84, 85, 6, 4, 11, 3], [85, 6, 86, 11, 3, 20], [6, 86, 4, 3, 20, 19], [86, 4, 11, 20, 19, 87], [4, 11, 3, 19, 87, 88], [11, 3, 20, 87, 88, 11], [3, 20, 19, 88, 11, 89], [20, 19, 87, 11, 89, 90], [19, 87, 88, 89, 90, 91], [87, 88, 11, 90, 91, 92], [88, 11, 89, 91, 92, 93], [11, 89, 90, 92, 93, 94]] \n",
      "\n",
      "[7, 8, 35, 36, 37, 2, 38, 12, 21, 41, 42, 43, 1, 22, 23, 44, 9, 24, 2, 25, 11, 10, 21, 13, 14, 1, 22, 12, 45, 46, 6, 4, 5, 8, 47, 9, 16, 17, 26, 6, 3, 5, 1, 13, 3, 29, 49, 1, 52, 17, 2, 53, 54, 55, 56, 7, 57, 2, 1, 5, 58, 1, 24, 2, 25, 18, 8, 10, 31, 32, 2, 60, 19, 61, 28, 62, 19, 63, 64, 29, 65, 4, 5, 66, 67, 9, 68, 69, 70, 71, 27, 72, 73, 74, 9, 16, 10, 31, 18, 1, 33, 2, 76, 77, 78, 23, 79, 80, 81, 18, 8, 82, 9, 83, 86, 4, 11, 3, 20, 19, 87, 88, 11, 89, 90, 91]\n"
     ]
    }
   ],
   "source": [
    "vocab_size = len(tokenizer.word_index) + 1\n",
    "emb_size = 100\n",
    "context_size = 3\n",
    "\n",
    "contexts = []\n",
    "targets = []\n",
    "\n",
    "for sequence in sequences:\n",
    "    if len(sequence) >= 2* context_size + 1:\n",
    "        for i in range(context_size, len(sequence) - context_size):\n",
    "            target = sequence[i]\n",
    "            context = sequence[i-context_size:i] + sequence[i+1:i+context_size+1]\n",
    "            contexts.append(context)\n",
    "            targets.append(target)\n",
    "            \n",
    "print(contexts, \"\\n\")\n",
    "print(targets)"
   ]
  },
  {
   "cell_type": "markdown",
   "id": "e6044f91",
   "metadata": {},
   "source": [
    "# Creating training and testing data"
   ]
  },
  {
   "cell_type": "code",
   "execution_count": 74,
   "id": "490fdb26",
   "metadata": {},
   "outputs": [],
   "source": [
    "X = np.array(contexts)\n",
    "y = np.array(targets)"
   ]
  },
  {
   "cell_type": "code",
   "execution_count": 75,
   "id": "ff751213",
   "metadata": {},
   "outputs": [],
   "source": [
    "X_train, X_test, y_train, y_test = train_test_split(X, y, test_size=0.25, random_state=42)"
   ]
  },
  {
   "cell_type": "code",
   "execution_count": 76,
   "id": "5fce86c3",
   "metadata": {},
   "outputs": [
    {
     "data": {
      "text/plain": [
       "((94, 6), (32, 6), (94,), (32,))"
      ]
     },
     "execution_count": 76,
     "metadata": {},
     "output_type": "execute_result"
    }
   ],
   "source": [
    "X_train.shape, X_test.shape, y_train.shape, y_test.shape"
   ]
  },
  {
   "cell_type": "markdown",
   "id": "2b696e1b",
   "metadata": {},
   "source": [
    "# Defining model"
   ]
  },
  {
   "cell_type": "code",
   "execution_count": 77,
   "id": "935017e2",
   "metadata": {
    "scrolled": true
   },
   "outputs": [
    {
     "name": "stderr",
     "output_type": "stream",
     "text": [
      "C:\\Users\\abhij\\anaconda3\\Lib\\site-packages\\keras\\src\\layers\\core\\embedding.py:90: UserWarning: Argument `input_length` is deprecated. Just remove it.\n",
      "  warnings.warn(\n"
     ]
    }
   ],
   "source": [
    "model = Sequential([\n",
    "    Embedding(input_dim=vocab_size, output_dim=emb_size, input_length=2 * context_size),\n",
    "    Lambda(lambda x: tf.reduce_mean(x, axis=1)),\n",
    "    Dense(128, activation='relu'),\n",
    "    Dense(vocab_size, activation='softmax')\n",
    "])"
   ]
  },
  {
   "cell_type": "markdown",
   "id": "8557fcd4",
   "metadata": {},
   "source": [
    "# Train the model"
   ]
  },
  {
   "cell_type": "code",
   "execution_count": 78,
   "id": "e805b7b6",
   "metadata": {},
   "outputs": [],
   "source": [
    "model.compile(optimizer='Adam', loss='sparse_categorical_crossentropy')"
   ]
  },
  {
   "cell_type": "code",
   "execution_count": 79,
   "id": "f1db9895",
   "metadata": {},
   "outputs": [],
   "source": [
    "history = model.fit(X_train, y_train, validation_data=(X_test, y_test), epochs=30, verbose=0)"
   ]
  },
  {
   "cell_type": "markdown",
   "id": "c628bfc7",
   "metadata": {},
   "source": [
    "# Making predictions"
   ]
  },
  {
   "cell_type": "code",
   "execution_count": 80,
   "id": "d4590bc0",
   "metadata": {},
   "outputs": [
    {
     "name": "stdout",
     "output_type": "stream",
     "text": [
      "\u001b[1m1/1\u001b[0m \u001b[32m━━━━━━━━━━━━━━━━━━━━\u001b[0m\u001b[37m\u001b[0m \u001b[1m0s\u001b[0m 85ms/step\n",
      "pred  ['that', 'there', 'are', 'who', 'can', 'shed'] \n",
      "= are \n",
      "\n",
      "\n"
     ]
    }
   ],
   "source": [
    "test_words = []\n",
    "\n",
    "for idx in X_test[5]:\n",
    "    test_words.append(idx2word.get(idx))\n",
    "\n",
    "# Reshape X_test[0] to have a batch dimension\n",
    "input_data = np.expand_dims(X_test[5], axis=0)\n",
    "\n",
    "pred = model.predict(input_data)\n",
    "pred = np.argmax(pred[0])\n",
    "\n",
    "print(\"pred \", test_words, \"\\n=\", idx2word.get(pred), \"\\n\\n\")"
   ]
  },
  {
   "cell_type": "code",
   "execution_count": null,
   "id": "a862d113",
   "metadata": {},
   "outputs": [],
   "source": []
  },
  {
   "cell_type": "code",
   "execution_count": null,
   "id": "b0ac00aa",
   "metadata": {},
   "outputs": [],
   "source": []
  }
 ],
 "metadata": {
  "kernelspec": {
   "display_name": "Python 3 (ipykernel)",
   "language": "python",
   "name": "python3"
  },
  "language_info": {
   "codemirror_mode": {
    "name": "ipython",
    "version": 3
   },
   "file_extension": ".py",
   "mimetype": "text/x-python",
   "name": "python",
   "nbconvert_exporter": "python",
   "pygments_lexer": "ipython3",
   "version": "3.11.5"
  }
 },
 "nbformat": 4,
 "nbformat_minor": 5
}
