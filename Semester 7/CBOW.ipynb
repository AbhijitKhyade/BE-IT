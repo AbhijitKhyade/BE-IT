{
 "cells": [
  {
   "cell_type": "markdown",
   "id": "1fdae89e",
   "metadata": {},
   "source": [
    "# Import Necessary Packages"
   ]
  },
  {
   "cell_type": "code",
   "execution_count": 57,
   "id": "9dd93f5c",
   "metadata": {},
   "outputs": [],
   "source": [
    "from tensorflow.keras.preprocessing.text import Tokenizer, text_to_word_sequence\n",
    "from tensorflow.keras.preprocessing.sequence import pad_sequences\n",
    "from tensorflow.keras.utils import to_categorical\n",
    "\n",
    "from tensorflow.keras import backend as K\n",
    "from tensorflow.keras.models import Sequential\n",
    "from tensorflow.keras.layers import Dense, Embedding, Lambda\n",
    "\n",
    "from sklearn.metrics.pairwise import euclidean_distances\n",
    "\n",
    "import numpy as np\n",
    "import pandas as pd\n"
   ]
  },
  {
   "cell_type": "code",
   "execution_count": 58,
   "id": "1dd32241",
   "metadata": {},
   "outputs": [],
   "source": [
    "data = \"\"\"Deep learning (also known as deep structured learning) is part of a \n",
    "broader family of machine learning methods based on artificial neural networks \n",
    "with representation learning. Learning can be supervised, semi-supervised or unsupervised.\n",
    "Deep-learning architectures such as deep neural networks, deep belief networks, \n",
    "deep reinforcement learning, recurrent neural networks, convolutional neural networks and \n",
    "Transformers have been applied to fields including computer vision, speech recognition, \n",
    "natural language processing, machine translation, bioinformatics, drug design, \n",
    "medical image analysis, climate science, material inspection and board game programs, \n",
    "where they have produced results comparable to and in some cases surpassing human expert performance.\n",
    "\"\"\"\n",
    "dl_data = data.split()"
   ]
  },
  {
   "cell_type": "markdown",
   "id": "d5e599d0",
   "metadata": {},
   "source": [
    "# Data Preparation"
   ]
  },
  {
   "cell_type": "code",
   "execution_count": 59,
   "id": "4dfecd50",
   "metadata": {},
   "outputs": [
    {
     "name": "stdout",
     "output_type": "stream",
     "text": [
      "Vocabulary size:  75\n",
      "Vocabulary Sample:  [('learning', 1), ('deep', 2), ('networks', 3), ('neural', 4), ('and', 5), ('as', 6), ('of', 7), ('machine', 8), ('supervised', 9), ('have', 10)]\n"
     ]
    }
   ],
   "source": [
    "tokenizer=Tokenizer()\n",
    "tokenizer.fit_on_texts(dl_data)\n",
    "\n",
    "words2id=tokenizer.word_index\n",
    "words2id['PAD']=0\n",
    "\n",
    "id2words={v:k for k,v in words2id.items()}\n",
    "\n",
    "wids = [[words2id[w] for w in text_to_word_sequence(doc)] for doc in dl_data]\n",
    "\n",
    "vocab_size=len(words2id)\n",
    "embed_size=100\n",
    "window_size=2\n",
    "\n",
    "print(\"Vocabulary size: \", vocab_size)\n",
    "print(\"Vocabulary Sample: \", list(words2id.items())[:10])"
   ]
  },
  {
   "cell_type": "markdown",
   "id": "6206e376",
   "metadata": {},
   "source": [
    "# Generate Training Data"
   ]
  },
  {
   "cell_type": "code",
   "execution_count": 60,
   "id": "91bc7bd3",
   "metadata": {},
   "outputs": [],
   "source": [
    "def generate_context_word_pair(corpus, window_size, vocab_size):\n",
    "    context_length=window_size*2\n",
    "\n",
    "    for words in corpus:\n",
    "        sentence_length = len(words)\n",
    "\n",
    "        for index, word in enumerate(words):\n",
    "            context_words = []\n",
    "            label_word = []\n",
    "            start = index - window_size\n",
    "            end = index + window_size + 1\n",
    "\n",
    "            context_words.append([words[i]\n",
    "                                 for i in range(start, end)\n",
    "                                 if 0 <=i <sentence_length\n",
    "                                 and i!= index])\n",
    "            label_word.append(word)\n",
    "\n",
    "            x = pad_sequences(context_words, maxlen = context_length)\n",
    "            y = to_categorical(label_word, vocab_size)\n",
    "            yield (x,y)\n",
    "\n"
   ]
  },
  {
   "cell_type": "markdown",
   "id": "870789a4",
   "metadata": {},
   "source": [
    " # Building the CBOW Model"
   ]
  },
  {
   "cell_type": "code",
   "execution_count": 61,
   "id": "84a081a9",
   "metadata": {},
   "outputs": [
    {
     "data": {
      "text/html": [
       "<pre style=\"white-space:pre;overflow-x:auto;line-height:normal;font-family:Menlo,'DejaVu Sans Mono',consolas,'Courier New',monospace\"><span style=\"font-weight: bold\">Model: \"sequential_6\"</span>\n",
       "</pre>\n"
      ],
      "text/plain": [
       "\u001b[1mModel: \"sequential_6\"\u001b[0m\n"
      ]
     },
     "metadata": {},
     "output_type": "display_data"
    },
    {
     "data": {
      "text/html": [
       "<pre style=\"white-space:pre;overflow-x:auto;line-height:normal;font-family:Menlo,'DejaVu Sans Mono',consolas,'Courier New',monospace\">┏━━━━━━━━━━━━━━━━━━━━━━━━━━━━━━━━━━━━━━┳━━━━━━━━━━━━━━━━━━━━━━━━━━━━━┳━━━━━━━━━━━━━━━━━┓\n",
       "┃<span style=\"font-weight: bold\"> Layer (type)                         </span>┃<span style=\"font-weight: bold\"> Output Shape                </span>┃<span style=\"font-weight: bold\">         Param # </span>┃\n",
       "┡━━━━━━━━━━━━━━━━━━━━━━━━━━━━━━━━━━━━━━╇━━━━━━━━━━━━━━━━━━━━━━━━━━━━━╇━━━━━━━━━━━━━━━━━┩\n",
       "│ embedding_6 (<span style=\"color: #0087ff; text-decoration-color: #0087ff\">Embedding</span>)              │ ?                           │     <span style=\"color: #00af00; text-decoration-color: #00af00\">0</span> (unbuilt) │\n",
       "├──────────────────────────────────────┼─────────────────────────────┼─────────────────┤\n",
       "│ lambda_6 (<span style=\"color: #0087ff; text-decoration-color: #0087ff\">Lambda</span>)                    │ ?                           │     <span style=\"color: #00af00; text-decoration-color: #00af00\">0</span> (unbuilt) │\n",
       "├──────────────────────────────────────┼─────────────────────────────┼─────────────────┤\n",
       "│ dense_6 (<span style=\"color: #0087ff; text-decoration-color: #0087ff\">Dense</span>)                      │ ?                           │     <span style=\"color: #00af00; text-decoration-color: #00af00\">0</span> (unbuilt) │\n",
       "└──────────────────────────────────────┴─────────────────────────────┴─────────────────┘\n",
       "</pre>\n"
      ],
      "text/plain": [
       "┏━━━━━━━━━━━━━━━━━━━━━━━━━━━━━━━━━━━━━━┳━━━━━━━━━━━━━━━━━━━━━━━━━━━━━┳━━━━━━━━━━━━━━━━━┓\n",
       "┃\u001b[1m \u001b[0m\u001b[1mLayer (type)                        \u001b[0m\u001b[1m \u001b[0m┃\u001b[1m \u001b[0m\u001b[1mOutput Shape               \u001b[0m\u001b[1m \u001b[0m┃\u001b[1m \u001b[0m\u001b[1m        Param #\u001b[0m\u001b[1m \u001b[0m┃\n",
       "┡━━━━━━━━━━━━━━━━━━━━━━━━━━━━━━━━━━━━━━╇━━━━━━━━━━━━━━━━━━━━━━━━━━━━━╇━━━━━━━━━━━━━━━━━┩\n",
       "│ embedding_6 (\u001b[38;5;33mEmbedding\u001b[0m)              │ ?                           │     \u001b[38;5;34m0\u001b[0m (unbuilt) │\n",
       "├──────────────────────────────────────┼─────────────────────────────┼─────────────────┤\n",
       "│ lambda_6 (\u001b[38;5;33mLambda\u001b[0m)                    │ ?                           │     \u001b[38;5;34m0\u001b[0m (unbuilt) │\n",
       "├──────────────────────────────────────┼─────────────────────────────┼─────────────────┤\n",
       "│ dense_6 (\u001b[38;5;33mDense\u001b[0m)                      │ ?                           │     \u001b[38;5;34m0\u001b[0m (unbuilt) │\n",
       "└──────────────────────────────────────┴─────────────────────────────┴─────────────────┘\n"
      ]
     },
     "metadata": {},
     "output_type": "display_data"
    },
    {
     "data": {
      "text/html": [
       "<pre style=\"white-space:pre;overflow-x:auto;line-height:normal;font-family:Menlo,'DejaVu Sans Mono',consolas,'Courier New',monospace\"><span style=\"font-weight: bold\"> Total params: </span><span style=\"color: #00af00; text-decoration-color: #00af00\">0</span> (0.00 B)\n",
       "</pre>\n"
      ],
      "text/plain": [
       "\u001b[1m Total params: \u001b[0m\u001b[38;5;34m0\u001b[0m (0.00 B)\n"
      ]
     },
     "metadata": {},
     "output_type": "display_data"
    },
    {
     "data": {
      "text/html": [
       "<pre style=\"white-space:pre;overflow-x:auto;line-height:normal;font-family:Menlo,'DejaVu Sans Mono',consolas,'Courier New',monospace\"><span style=\"font-weight: bold\"> Trainable params: </span><span style=\"color: #00af00; text-decoration-color: #00af00\">0</span> (0.00 B)\n",
       "</pre>\n"
      ],
      "text/plain": [
       "\u001b[1m Trainable params: \u001b[0m\u001b[38;5;34m0\u001b[0m (0.00 B)\n"
      ]
     },
     "metadata": {},
     "output_type": "display_data"
    },
    {
     "data": {
      "text/html": [
       "<pre style=\"white-space:pre;overflow-x:auto;line-height:normal;font-family:Menlo,'DejaVu Sans Mono',consolas,'Courier New',monospace\"><span style=\"font-weight: bold\"> Non-trainable params: </span><span style=\"color: #00af00; text-decoration-color: #00af00\">0</span> (0.00 B)\n",
       "</pre>\n"
      ],
      "text/plain": [
       "\u001b[1m Non-trainable params: \u001b[0m\u001b[38;5;34m0\u001b[0m (0.00 B)\n"
      ]
     },
     "metadata": {},
     "output_type": "display_data"
    },
    {
     "name": "stdout",
     "output_type": "stream",
     "text": [
      "None\n"
     ]
    }
   ],
   "source": [
    "cbow=Sequential()\n",
    "cbow.add(Embedding(input_dim=vocab_size, output_dim=embed_size, input_length=window_size*2))\n",
    "cbow.add(Lambda(lambda x:K.mean(x, axis=1), output_shape=(embed_size,)))\n",
    "cbow.add(Dense(vocab_size, activation=\"softmax\"))\n",
    "\n",
    "\n",
    "cbow.compile(loss=\"categorical_crossentropy\", optimizer=\"rmsprop\")\n",
    "print(cbow.summary())"
   ]
  },
  {
   "cell_type": "markdown",
   "id": "86177b39",
   "metadata": {},
   "source": [
    " # Training the Model"
   ]
  },
  {
   "cell_type": "code",
   "execution_count": 62,
   "id": "dd1ef451",
   "metadata": {
    "scrolled": true
   },
   "outputs": [
    {
     "name": "stdout",
     "output_type": "stream",
     "text": [
      "WARNING:tensorflow:5 out of the last 104 calls to <function TensorFlowTrainer.make_train_function.<locals>.one_step_on_iterator at 0x000001B52C79EAC0> triggered tf.function retracing. Tracing is expensive and the excessive number of tracings could be due to (1) creating @tf.function repeatedly in a loop, (2) passing tensors with different shapes, (3) passing Python objects instead of tensors. For (1), please define your @tf.function outside of the loop. For (2), @tf.function has reduce_retracing=True option that can avoid unnecessary retracing. For (3), please refer to https://www.tensorflow.org/guide/function#controlling_retracing and https://www.tensorflow.org/api_docs/python/tf/function for  more details.\n",
      "WARNING:tensorflow:6 out of the last 105 calls to <function TensorFlowTrainer.make_train_function.<locals>.one_step_on_iterator at 0x000001B52C79EAC0> triggered tf.function retracing. Tracing is expensive and the excessive number of tracings could be due to (1) creating @tf.function repeatedly in a loop, (2) passing tensors with different shapes, (3) passing Python objects instead of tensors. For (1), please define your @tf.function outside of the loop. For (2), @tf.function has reduce_retracing=True option that can avoid unnecessary retracing. For (3), please refer to https://www.tensorflow.org/guide/function#controlling_retracing and https://www.tensorflow.org/api_docs/python/tf/function for  more details.\n",
      "Epoch: 1 \tLoss: 431.72362422943115\n",
      "\n",
      "Epoch: 2 \tLoss: 431.0139813423157\n",
      "\n",
      "Epoch: 3 \tLoss: 429.25389766693115\n",
      "\n",
      "Epoch: 4 \tLoss: 427.4843759536743\n",
      "\n",
      "Epoch: 5 \tLoss: 425.9421081542969\n",
      "\n"
     ]
    }
   ],
   "source": [
    "for epoch in range(1,6):\n",
    "    loss=0\n",
    "    i=0\n",
    "\n",
    "    for x,y in generate_context_word_pair(corpus=wids, window_size=window_size, vocab_size=vocab_size):\n",
    "        i+=1\n",
    "        loss+=cbow.train_on_batch(x,y)\n",
    "        if i % 100000 == 0:\n",
    "            print('Processed {} (context, word) pairs'.format(i))\n",
    "\n",
    "    print('Epoch:',epoch, '\\tLoss:', loss)\n",
    "    print()\n",
    "\n"
   ]
  },
  {
   "cell_type": "code",
   "execution_count": 63,
   "id": "a1f38c1e",
   "metadata": {},
   "outputs": [
    {
     "name": "stdout",
     "output_type": "stream",
     "text": [
      "(74, 100)\n"
     ]
    },
    {
     "data": {
      "text/html": [
       "<div>\n",
       "<style scoped>\n",
       "    .dataframe tbody tr th:only-of-type {\n",
       "        vertical-align: middle;\n",
       "    }\n",
       "\n",
       "    .dataframe tbody tr th {\n",
       "        vertical-align: top;\n",
       "    }\n",
       "\n",
       "    .dataframe thead th {\n",
       "        text-align: right;\n",
       "    }\n",
       "</style>\n",
       "<table border=\"1\" class=\"dataframe\">\n",
       "  <thead>\n",
       "    <tr style=\"text-align: right;\">\n",
       "      <th></th>\n",
       "      <th>0</th>\n",
       "      <th>1</th>\n",
       "      <th>2</th>\n",
       "      <th>3</th>\n",
       "      <th>4</th>\n",
       "      <th>5</th>\n",
       "      <th>6</th>\n",
       "      <th>7</th>\n",
       "      <th>8</th>\n",
       "      <th>9</th>\n",
       "      <th>...</th>\n",
       "      <th>90</th>\n",
       "      <th>91</th>\n",
       "      <th>92</th>\n",
       "      <th>93</th>\n",
       "      <th>94</th>\n",
       "      <th>95</th>\n",
       "      <th>96</th>\n",
       "      <th>97</th>\n",
       "      <th>98</th>\n",
       "      <th>99</th>\n",
       "    </tr>\n",
       "  </thead>\n",
       "  <tbody>\n",
       "    <tr>\n",
       "      <th>deep</th>\n",
       "      <td>0.019623</td>\n",
       "      <td>-0.015472</td>\n",
       "      <td>-0.030682</td>\n",
       "      <td>-0.008383</td>\n",
       "      <td>0.007776</td>\n",
       "      <td>0.063193</td>\n",
       "      <td>-0.044547</td>\n",
       "      <td>0.012944</td>\n",
       "      <td>-0.030188</td>\n",
       "      <td>-0.009665</td>\n",
       "      <td>...</td>\n",
       "      <td>-0.011485</td>\n",
       "      <td>-0.023949</td>\n",
       "      <td>-0.046942</td>\n",
       "      <td>-0.019864</td>\n",
       "      <td>-0.014411</td>\n",
       "      <td>-0.036033</td>\n",
       "      <td>-0.027973</td>\n",
       "      <td>-0.013447</td>\n",
       "      <td>-0.063946</td>\n",
       "      <td>-0.032568</td>\n",
       "    </tr>\n",
       "    <tr>\n",
       "      <th>networks</th>\n",
       "      <td>-0.050105</td>\n",
       "      <td>-0.036108</td>\n",
       "      <td>0.035422</td>\n",
       "      <td>0.040411</td>\n",
       "      <td>0.062042</td>\n",
       "      <td>-0.034405</td>\n",
       "      <td>0.027385</td>\n",
       "      <td>-0.021025</td>\n",
       "      <td>-0.026591</td>\n",
       "      <td>0.017170</td>\n",
       "      <td>...</td>\n",
       "      <td>0.013413</td>\n",
       "      <td>0.046476</td>\n",
       "      <td>0.053090</td>\n",
       "      <td>-0.051544</td>\n",
       "      <td>0.023440</td>\n",
       "      <td>0.030803</td>\n",
       "      <td>-0.025256</td>\n",
       "      <td>-0.003942</td>\n",
       "      <td>-0.024713</td>\n",
       "      <td>-0.052283</td>\n",
       "    </tr>\n",
       "    <tr>\n",
       "      <th>neural</th>\n",
       "      <td>0.037188</td>\n",
       "      <td>-0.034261</td>\n",
       "      <td>0.015794</td>\n",
       "      <td>-0.042897</td>\n",
       "      <td>0.015623</td>\n",
       "      <td>-0.013113</td>\n",
       "      <td>-0.038284</td>\n",
       "      <td>-0.037851</td>\n",
       "      <td>0.027928</td>\n",
       "      <td>0.027009</td>\n",
       "      <td>...</td>\n",
       "      <td>0.010710</td>\n",
       "      <td>0.006225</td>\n",
       "      <td>-0.013257</td>\n",
       "      <td>0.048861</td>\n",
       "      <td>0.022655</td>\n",
       "      <td>-0.019808</td>\n",
       "      <td>-0.048734</td>\n",
       "      <td>-0.037118</td>\n",
       "      <td>0.003858</td>\n",
       "      <td>-0.031201</td>\n",
       "    </tr>\n",
       "    <tr>\n",
       "      <th>and</th>\n",
       "      <td>-0.032364</td>\n",
       "      <td>0.030334</td>\n",
       "      <td>0.027834</td>\n",
       "      <td>-0.015151</td>\n",
       "      <td>-0.021081</td>\n",
       "      <td>0.007244</td>\n",
       "      <td>-0.036120</td>\n",
       "      <td>0.033495</td>\n",
       "      <td>-0.008872</td>\n",
       "      <td>0.047202</td>\n",
       "      <td>...</td>\n",
       "      <td>0.003559</td>\n",
       "      <td>-0.039277</td>\n",
       "      <td>0.038549</td>\n",
       "      <td>-0.035929</td>\n",
       "      <td>0.024735</td>\n",
       "      <td>0.013316</td>\n",
       "      <td>-0.044594</td>\n",
       "      <td>-0.049898</td>\n",
       "      <td>-0.045405</td>\n",
       "      <td>0.014855</td>\n",
       "    </tr>\n",
       "    <tr>\n",
       "      <th>as</th>\n",
       "      <td>-0.003054</td>\n",
       "      <td>-0.014807</td>\n",
       "      <td>0.022494</td>\n",
       "      <td>-0.044540</td>\n",
       "      <td>-0.026504</td>\n",
       "      <td>-0.037334</td>\n",
       "      <td>0.002657</td>\n",
       "      <td>0.005635</td>\n",
       "      <td>-0.003892</td>\n",
       "      <td>-0.009022</td>\n",
       "      <td>...</td>\n",
       "      <td>-0.043143</td>\n",
       "      <td>0.006610</td>\n",
       "      <td>-0.033644</td>\n",
       "      <td>-0.011659</td>\n",
       "      <td>0.037333</td>\n",
       "      <td>-0.027747</td>\n",
       "      <td>0.037625</td>\n",
       "      <td>-0.038943</td>\n",
       "      <td>-0.045849</td>\n",
       "      <td>0.014122</td>\n",
       "    </tr>\n",
       "  </tbody>\n",
       "</table>\n",
       "<p>5 rows × 100 columns</p>\n",
       "</div>"
      ],
      "text/plain": [
       "                0         1         2         3         4         5   \\\n",
       "deep      0.019623 -0.015472 -0.030682 -0.008383  0.007776  0.063193   \n",
       "networks -0.050105 -0.036108  0.035422  0.040411  0.062042 -0.034405   \n",
       "neural    0.037188 -0.034261  0.015794 -0.042897  0.015623 -0.013113   \n",
       "and      -0.032364  0.030334  0.027834 -0.015151 -0.021081  0.007244   \n",
       "as       -0.003054 -0.014807  0.022494 -0.044540 -0.026504 -0.037334   \n",
       "\n",
       "                6         7         8         9   ...        90        91  \\\n",
       "deep     -0.044547  0.012944 -0.030188 -0.009665  ... -0.011485 -0.023949   \n",
       "networks  0.027385 -0.021025 -0.026591  0.017170  ...  0.013413  0.046476   \n",
       "neural   -0.038284 -0.037851  0.027928  0.027009  ...  0.010710  0.006225   \n",
       "and      -0.036120  0.033495 -0.008872  0.047202  ...  0.003559 -0.039277   \n",
       "as        0.002657  0.005635 -0.003892 -0.009022  ... -0.043143  0.006610   \n",
       "\n",
       "                92        93        94        95        96        97  \\\n",
       "deep     -0.046942 -0.019864 -0.014411 -0.036033 -0.027973 -0.013447   \n",
       "networks  0.053090 -0.051544  0.023440  0.030803 -0.025256 -0.003942   \n",
       "neural   -0.013257  0.048861  0.022655 -0.019808 -0.048734 -0.037118   \n",
       "and       0.038549 -0.035929  0.024735  0.013316 -0.044594 -0.049898   \n",
       "as       -0.033644 -0.011659  0.037333 -0.027747  0.037625 -0.038943   \n",
       "\n",
       "                98        99  \n",
       "deep     -0.063946 -0.032568  \n",
       "networks -0.024713 -0.052283  \n",
       "neural    0.003858 -0.031201  \n",
       "and      -0.045405  0.014855  \n",
       "as       -0.045849  0.014122  \n",
       "\n",
       "[5 rows x 100 columns]"
      ]
     },
     "execution_count": 63,
     "metadata": {},
     "output_type": "execute_result"
    }
   ],
   "source": [
    "weights=cbow.get_weights()[0]\n",
    "weights = weights[1:]\n",
    "print(weights.shape)\n",
    "\n",
    "pd.DataFrame(weights, index=list(id2words.values())[1:]).head()"
   ]
  },
  {
   "cell_type": "markdown",
   "id": "7d56f0b6",
   "metadata": {},
   "source": [
    " # Output"
   ]
  },
  {
   "cell_type": "code",
   "execution_count": 64,
   "id": "9a0a5045",
   "metadata": {},
   "outputs": [
    {
     "name": "stdout",
     "output_type": "stream",
     "text": [
      "(74, 74)\n",
      "machine\n"
     ]
    },
    {
     "data": {
      "text/plain": [
       "{'machine': ['of',\n",
       "  'processing',\n",
       "  'material',\n",
       "  'architectures',\n",
       "  'semi',\n",
       "  'translation']}"
      ]
     },
     "execution_count": 64,
     "metadata": {},
     "output_type": "execute_result"
    }
   ],
   "source": [
    "distance_matrix = euclidean_distances(weights)\n",
    "print(distance_matrix.shape)\n",
    "\n",
    "inwords = input()\n",
    "\n",
    "similar_words = {search_term: [id2words[idx] for idx in distance_matrix[words2id[search_term]-1].argsort()[0:6]]\n",
    "                   for search_term in {inwords}}\n",
    "\n",
    "similar_words"
   ]
  },
  {
   "cell_type": "code",
   "execution_count": null,
   "id": "5259b05b",
   "metadata": {},
   "outputs": [],
   "source": []
  }
 ],
 "metadata": {
  "kernelspec": {
   "display_name": "Python 3 (ipykernel)",
   "language": "python",
   "name": "python3"
  },
  "language_info": {
   "codemirror_mode": {
    "name": "ipython",
    "version": 3
   },
   "file_extension": ".py",
   "mimetype": "text/x-python",
   "name": "python",
   "nbconvert_exporter": "python",
   "pygments_lexer": "ipython3",
   "version": "3.11.5"
  }
 },
 "nbformat": 4,
 "nbformat_minor": 5
}
